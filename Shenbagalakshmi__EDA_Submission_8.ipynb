{
  "nbformat": 4,
  "nbformat_minor": 0,
  "metadata": {
    "colab": {
      "private_outputs": true,
      "provenance": [],
      "collapsed_sections": [
        "PIIx-8_IphqN",
        "t27r6nlMphqO",
        "r2jJGEOYphqO",
        "b0JNsNcRphqO",
        "BZR9WyysphqO",
        "jj7wYXLtphqO",
        "eZrbJ2SmphqO",
        "rFu4xreNphqO",
        "YJ55k-q6phqO",
        "gCFgpxoyphqP",
        "OVtJsKN_phqQ",
        "lssrdh5qphqQ",
        "U2RJ9gkRphqQ",
        "1M8mcRywphqQ",
        "tgIPom80phqQ",
        "JMzcOPDDphqR",
        "x-EpHcCOp1ci",
        "X_VqEhTip1ck",
        "8zGJKyg5p1ck",
        "PVzmfK_Ep1ck",
        "n3dbpmDWp1ck",
        "ylSl6qgtp1ck",
        "ZWILFDl5p1ck",
        "M7G43BXep1ck",
        "Ag9LCva-p1cl",
        "E6MkPsBcp1cl",
        "2cELzS2fp1cl",
        "3MPXvC8up1cl",
        "NC_X3p0fY2L0",
        "UV0SzAkaZNRQ",
        "YPEH6qLeZNRQ",
        "q29F0dvdveiT",
        "EXh0U9oCveiU",
        "22aHeOlLveiV",
        "JcMwzZxoAimU",
        "8G2x9gOozGDZ",
        "gCX9965dhzqZ",
        "gIfDvo9L0UH2"
      ],
      "include_colab_link": true
    },
    "kernelspec": {
      "name": "python3",
      "display_name": "Python 3"
    },
    "language_info": {
      "name": "python"
    }
  },
  "cells": [
    {
      "cell_type": "markdown",
      "metadata": {
        "id": "view-in-github",
        "colab_type": "text"
      },
      "source": [
        "<a href=\"https://colab.research.google.com/github/lakshmi-rsl/Project1/blob/main/Shenbagalakshmi__EDA_Submission_8.ipynb\" target=\"_parent\"><img src=\"https://colab.research.google.com/assets/colab-badge.svg\" alt=\"Open In Colab\"/></a>"
      ]
    },
    {
      "cell_type": "markdown",
      "source": [
        "# **Project Name**    - Exploratory Data Analysis on Google Playstore App data\n",
        "\n"
      ],
      "metadata": {
        "id": "vncDsAP0Gaoa"
      }
    },
    {
      "cell_type": "markdown",
      "source": [
        "\n",
        "\n",
        "```\n",
        "# This is formatted as code\n",
        "```\n",
        "\n",
        "##### **Project Type**    - EDA\n",
        "##### **Contribution**    - Individual\n"
      ],
      "metadata": {
        "id": "beRrZCGUAJYm"
      }
    },
    {
      "cell_type": "markdown",
      "source": [
        "# **Project Summary -**"
      ],
      "metadata": {
        "id": "FJNUwmbgGyua"
      }
    },
    {
      "cell_type": "markdown",
      "source": [
        "The Play Store is a key player in the digital markets, influencing the app ecosystem for both users and developers.Conducting an exploratory data analysis (EDA) on Play Store data becomes crucial to unravel patterns, trends, and dynamics within this vast collection of mobile applications. This analysis aims to do three things: first, it will show how popular apps are across different categories; second, it will show which factors affect user reviews and ratings; and third, it will investigate the complex relationships that exist between app features like price, size, and user engagement.The analysis attempts to answer important research issues, such as identifying the most popular app categories and figuring out how many installations there are for each rating. Through the use of correlation analysis, data visualisation methods, and descriptive statistics, the study aims to provide insightful information about how the dynamics of the Play Store ecosystem are changing.The expected results have the capacity to direct developers, educate users, and aid in strategic decision-making in the constantly changing field of mobile applications. We hope that our thorough investigation will help to clarify the Play Store's current situation as well as its potential future directions and the ramifications they may have for various parties involved in the online market.\n",
        "\n",
        "\n",
        "\n",
        "\n"
      ],
      "metadata": {
        "id": "F6v_1wHtG2nS"
      }
    },
    {
      "cell_type": "markdown",
      "source": [
        "# **GitHub Link -**"
      ],
      "metadata": {
        "id": "w6K7xa23Elo4"
      }
    },
    {
      "cell_type": "markdown",
      "source": [
        "Provide your GitHub Link here."
      ],
      "metadata": {
        "id": "h1o69JH3Eqqn"
      }
    },
    {
      "cell_type": "markdown",
      "source": [
        "# **Problem Statement**\n"
      ],
      "metadata": {
        "id": "yQaldy8SH6Dl"
      }
    },
    {
      "cell_type": "markdown",
      "source": [
        "The Play Store has significant impact on the app ecosystem in the ever-changing world of digital markets.But it's critical to identify subtle patterns and connections in the vast universe of mobile applications.This necessitates a thorough exploratory data analysis (EDA).This approach attempts to examine the intricate relationships between app features, identify factors that impact user reviews and ratings, and understand the popularity of apps across several categories. Key research questions are addressed via correlation analysis, data visualisation, and descriptive statistics, such as identifying preferred app categories and measuring installations per rating. The information needed could help consumers, developers, and strategists make informed decisions in the constantly changing field of mobile applications.\n",
        "\n",
        "\n",
        "\n",
        "\n"
      ],
      "metadata": {
        "id": "DpeJGUA3kjGy"
      }
    },
    {
      "cell_type": "markdown",
      "source": [
        "#### **Define Your Business Objective?**"
      ],
      "metadata": {
        "id": "PH-0ReGfmX4f"
      }
    },
    {
      "cell_type": "markdown",
      "source": [
        "To Utilize exploratory data analysis findings to enhance app popularity, user satisfaction, and revenue streams, ensuring sustained success and competitiveness within the Play Store ecosystem."
      ],
      "metadata": {
        "id": "PhDvGCAqmjP1"
      }
    },
    {
      "cell_type": "markdown",
      "source": [
        "# **General Guidelines** : -  "
      ],
      "metadata": {
        "id": "mDgbUHAGgjLW"
      }
    },
    {
      "cell_type": "markdown",
      "source": [
        "1.   Well-structured, formatted, and commented code is required.\n",
        "2.   Exception Handling, Production Grade Code & Deployment Ready Code will be a plus. Those students will be awarded some additional credits.\n",
        "     \n",
        "     The additional credits will have advantages over other students during Star Student selection.\n",
        "       \n",
        "             [ Note: - Deployment Ready Code is defined as, the whole .ipynb notebook should be executable in one go\n",
        "                       without a single error logged. ]\n",
        "\n",
        "3.   Each and every logic should have proper comments.\n",
        "4. You may add as many number of charts you want. Make Sure for each and every chart the following format should be answered.\n",
        "        \n",
        "\n",
        "```\n",
        "# Chart visualization code\n",
        "```\n",
        "            \n",
        "\n",
        "*   Why did you pick the specific chart?\n",
        "*   What is/are the insight(s) found from the chart?\n",
        "* Will the gained insights help creating a positive business impact?\n",
        "Are there any insights that lead to negative growth? Justify with specific reason.\n",
        "\n",
        "5. You have to create at least 20 logical & meaningful charts having important insights.\n",
        "\n",
        "\n",
        "[ Hints : - Do the Vizualization in  a structured way while following \"UBM\" Rule.\n",
        "\n",
        "U - Univariate Analysis,\n",
        "\n",
        "B - Bivariate Analysis (Numerical - Categorical, Numerical - Numerical, Categorical - Categorical)\n",
        "\n",
        "M - Multivariate Analysis\n",
        " ]\n",
        "\n",
        "\n",
        "\n"
      ],
      "metadata": {
        "id": "ZrxVaUj-hHfC"
      }
    },
    {
      "cell_type": "markdown",
      "source": [
        "# ***Let's Begin !***"
      ],
      "metadata": {
        "id": "O_i_v8NEhb9l"
      }
    },
    {
      "cell_type": "markdown",
      "source": [
        "## ***1. Know Your Data***"
      ],
      "metadata": {
        "id": "HhfV-JJviCcP"
      }
    },
    {
      "cell_type": "markdown",
      "source": [
        "### Import Libraries"
      ],
      "metadata": {
        "id": "Y3lxredqlCYt"
      }
    },
    {
      "cell_type": "code",
      "source": [
        "# Import Libraries\n",
        "import numpy as np\n",
        "import pandas as pd\n",
        "import matplotlib.pyplot as plt\n",
        "import seaborn as sns\n",
        "import warnings\n",
        "warnings.filterwarnings('ignore')"
      ],
      "metadata": {
        "id": "M8Vqi-pPk-HR"
      },
      "execution_count": null,
      "outputs": []
    },
    {
      "cell_type": "markdown",
      "source": [
        "### Dataset Loading"
      ],
      "metadata": {
        "id": "3RnN4peoiCZX"
      }
    },
    {
      "cell_type": "code",
      "source": [
        "# Load Dataset\n",
        "from google.colab import drive\n",
        "drive.mount('/content/drive')\n",
        "\n"
      ],
      "metadata": {
        "id": "4CkvbW_SlZ_R"
      },
      "execution_count": null,
      "outputs": []
    },
    {
      "cell_type": "code",
      "source": [
        "df_app = pd.read_csv('/content/drive/My Drive/Project_Module2/Play Store Data.csv')"
      ],
      "metadata": {
        "id": "I8qzsbllbdF5"
      },
      "execution_count": null,
      "outputs": []
    },
    {
      "cell_type": "code",
      "source": [
        "df_rev = pd.read_csv('/content/drive/My Drive/Project_Module2/User Reviews.csv')"
      ],
      "metadata": {
        "id": "ICKdzGzGbfQC"
      },
      "execution_count": null,
      "outputs": []
    },
    {
      "cell_type": "markdown",
      "source": [
        "### Dataset First View"
      ],
      "metadata": {
        "id": "x71ZqKXriCWQ"
      }
    },
    {
      "cell_type": "code",
      "source": [
        "# Dataset First Look\n",
        "df_app.head()"
      ],
      "metadata": {
        "id": "LWNFOSvLl09H"
      },
      "execution_count": null,
      "outputs": []
    },
    {
      "cell_type": "code",
      "source": [
        "df_rev.head()"
      ],
      "metadata": {
        "id": "lb_ATXhccOs1"
      },
      "execution_count": null,
      "outputs": []
    },
    {
      "cell_type": "markdown",
      "source": [
        "### Dataset Rows & Columns count"
      ],
      "metadata": {
        "id": "7hBIi_osiCS2"
      }
    },
    {
      "cell_type": "code",
      "source": [
        "# Dataset Rows & Columns count\n",
        "df_app.shape"
      ],
      "metadata": {
        "id": "Kllu7SJgmLij"
      },
      "execution_count": null,
      "outputs": []
    },
    {
      "cell_type": "code",
      "source": [
        "df_rev.shape"
      ],
      "metadata": {
        "id": "YvJ9brbbcVYF"
      },
      "execution_count": null,
      "outputs": []
    },
    {
      "cell_type": "markdown",
      "source": [
        "### Dataset Information"
      ],
      "metadata": {
        "id": "JlHwYmJAmNHm"
      }
    },
    {
      "cell_type": "code",
      "source": [
        "# Dataset Info\n",
        "df_app.info()"
      ],
      "metadata": {
        "id": "e9hRXRi6meOf"
      },
      "execution_count": null,
      "outputs": []
    },
    {
      "cell_type": "markdown",
      "source": [
        "#### Duplicate Values"
      ],
      "metadata": {
        "id": "35m5QtbWiB9F"
      }
    },
    {
      "cell_type": "code",
      "source": [
        "# Dataset Duplicate Value Count\n",
        "len(df_app[df_app.duplicated()])"
      ],
      "metadata": {
        "id": "1sLdpKYkmox0"
      },
      "execution_count": null,
      "outputs": []
    },
    {
      "cell_type": "markdown",
      "source": [
        "Dropping the duplicate Apps from the dataset"
      ],
      "metadata": {
        "id": "tL-XYqsweE8_"
      }
    },
    {
      "cell_type": "code",
      "source": [
        "df_app.drop_duplicates(subset=\"App\", inplace = True)"
      ],
      "metadata": {
        "id": "8sZHA3CweJY2"
      },
      "execution_count": null,
      "outputs": []
    },
    {
      "cell_type": "code",
      "source": [
        "#checking whether the dunplicates were dropped from the dataset\n",
        "len(df_app[df_app.duplicated()])"
      ],
      "metadata": {
        "id": "Cp_bqrWDelLX"
      },
      "execution_count": null,
      "outputs": []
    },
    {
      "cell_type": "markdown",
      "source": [
        "#### Missing Values/Null Values"
      ],
      "metadata": {
        "id": "PoPl-ycgm1ru"
      }
    },
    {
      "cell_type": "code",
      "source": [
        "# Missing Values/Null Values Count\n",
        "print(df_app.isnull().sum())"
      ],
      "metadata": {
        "id": "GgHWkxvamxVg"
      },
      "execution_count": null,
      "outputs": []
    },
    {
      "cell_type": "markdown",
      "source": [
        "It is understood that the columns like \"Rating\",\"Type\",\"Content rating\", \"Current Ver\"  and \"\"Android Ver\" have missing values which are to be addressed in the later sections.\n"
      ],
      "metadata": {
        "id": "7YjB7hiAE1fX"
      }
    },
    {
      "cell_type": "code",
      "source": [
        "# Visualizing the missing values as bar chart\n",
        "df_app.isnull().sum().plot(kind='bar')"
      ],
      "metadata": {
        "id": "3q5wnI3om9sJ"
      },
      "execution_count": null,
      "outputs": []
    },
    {
      "cell_type": "code",
      "source": [
        "#Visualizing the missing values using heatmap\n",
        "sns.heatmap(df_app.isnull(),cbar=False)"
      ],
      "metadata": {
        "id": "NhS83xCXgBug"
      },
      "execution_count": null,
      "outputs": []
    },
    {
      "cell_type": "markdown",
      "source": [
        "### What did you know about your dataset?"
      ],
      "metadata": {
        "id": "H0kj-8xxnORC"
      }
    },
    {
      "cell_type": "markdown",
      "source": [
        "The datasets consist of two CSV files which are play store data.csv and user reviews.csv.\n",
        "\n",
        "The play store data.csv has 10,841 observations and 13 variables about details of the applications on Google Play.\n",
        "\n",
        "The user reviews.csv has 64,295 observations and 5 variables about the most relevant 100 reviews for each app and sentiment informations for each review."
      ],
      "metadata": {
        "id": "gfoNAAC-nUe_"
      }
    },
    {
      "cell_type": "markdown",
      "source": [
        "## ***2. Understanding Your Variables***"
      ],
      "metadata": {
        "id": "nA9Y7ga8ng1Z"
      }
    },
    {
      "cell_type": "code",
      "source": [
        "# Dataset Columns\n",
        "df_app.columns"
      ],
      "metadata": {
        "id": "j7xfkqrt5Ag5"
      },
      "execution_count": null,
      "outputs": []
    },
    {
      "cell_type": "code",
      "source": [
        "df_rev.columns"
      ],
      "metadata": {
        "id": "4Ru3SVsXjDCM"
      },
      "execution_count": null,
      "outputs": []
    },
    {
      "cell_type": "code",
      "source": [
        "# Dataset Describe\n",
        "df_app.describe()"
      ],
      "metadata": {
        "id": "DnOaZdaE5Q5t"
      },
      "execution_count": null,
      "outputs": []
    },
    {
      "cell_type": "markdown",
      "source": [
        "### Variables Description"
      ],
      "metadata": {
        "id": "PBTbrJXOngz2"
      }
    },
    {
      "cell_type": "markdown",
      "source": [
        "**Play store data.csv**\n",
        "\n",
        "**App**: Application name\n",
        "\n",
        "**Rating**: Overall user rating of the app\n",
        "\n",
        "**Reviews**: Number of user reviews for the app\n",
        "\n",
        "**Size**: Size of the app\n",
        "\n",
        "**Price**: Price of the app\n",
        "\n",
        "**Installs**: Number of user downloads/installs for the app\n",
        "\n",
        "**Type**: Paid or Free\n",
        "\n",
        "**Content Rating**: Age group the app is targeted at - Children / Mature 21+ / Adult\n",
        "\n",
        "**Genres**: An app can belong to multiple genres (apart from its main category)\n",
        "\n",
        "**Last Updated**: Date of the last app update.\n",
        "\n",
        "**Current Ver**': Current version of the app.\n",
        "\n",
        "**Android Ver**': Minimum Android version required.\n",
        "\n",
        "**User reviews.csv**\n",
        "\n",
        "**Genres**: An app can belong to multiple genres (apart from its main category)\n",
        "\n",
        "**App**: Name of app\n",
        "\n",
        "**Translated_Review**: User review (Preprocessed and translated to English)\n",
        "\n",
        "**Sentiment:** Positive/Negative/Neutral (Preprocessed)\n",
        "\n",
        "**Sentiment_Polarity**: Sentiment polarity score (>0 - positive, <0 - negative)\n",
        "'**Sentiment_Subjectivity**': Numerical score indicating the subjectivity of the review"
      ],
      "metadata": {
        "id": "gqhWkB1ZjrZr"
      }
    },
    {
      "cell_type": "markdown",
      "source": [
        "**Quick Check for Outliers**"
      ],
      "metadata": {
        "id": "Ci3uoi2LJ56j"
      }
    },
    {
      "cell_type": "markdown",
      "source": [
        "**On studying the dataset further, it was found that there was  data with some kind of weird anomaly. Let us find out the row in the data and purge it.**"
      ],
      "metadata": {
        "id": "Y-F_VLxaJwpj"
      }
    },
    {
      "cell_type": "markdown",
      "source": [
        "### Check Unique Values for each variable."
      ],
      "metadata": {
        "id": "u3PMJOP6ngxN"
      }
    },
    {
      "cell_type": "code",
      "source": [
        "# Check Unique Values for \"Rating\"\n",
        "df_app[\"Rating\"].unique()"
      ],
      "metadata": {
        "id": "zms12Yq5n-jE"
      },
      "execution_count": null,
      "outputs": []
    },
    {
      "cell_type": "code",
      "source": [
        "#Checking the unique value for \"Size\"\n",
        "df_app[\"Size\"].unique()"
      ],
      "metadata": {
        "id": "9s9zuiy5ODxI"
      },
      "execution_count": null,
      "outputs": []
    },
    {
      "cell_type": "code",
      "source": [
        "# Checking the unique value for the column \"Installs\"\n",
        "df_app[\"Installs\"].unique()"
      ],
      "metadata": {
        "id": "o5R5rlapOlSQ"
      },
      "execution_count": null,
      "outputs": []
    },
    {
      "cell_type": "code",
      "source": [
        "# Checking the unique value for the column \"Price\"\n",
        "df_app[\"Price\"].unique()"
      ],
      "metadata": {
        "id": "VM3KAcdUa1lY"
      },
      "execution_count": null,
      "outputs": []
    },
    {
      "cell_type": "markdown",
      "source": [
        "## 3. ***Data Wrangling***"
      ],
      "metadata": {
        "id": "G5XmwJbLQeV7"
      }
    },
    {
      "cell_type": "markdown",
      "source": [
        "**Rating column**"
      ],
      "metadata": {
        "id": "TUU04A-tYDEj"
      }
    },
    {
      "cell_type": "markdown",
      "source": [
        "We have an app rating of 19 which is out of range and needs to be dropped"
      ],
      "metadata": {
        "id": "DvGFbPM6K8Cv"
      }
    },
    {
      "cell_type": "code",
      "source": [
        "df_app[df_app[\"Rating\"]==19]"
      ],
      "metadata": {
        "id": "CqEePfQlK_sm"
      },
      "execution_count": null,
      "outputs": []
    },
    {
      "cell_type": "markdown",
      "source": [
        "As we can see that this entry of our dataset is having a Rating of 19.0 which is way higher than the maximum rating of 5.0. Also, the value in the Reviews column has an alphabet which makes it a lone entry to have so. Hence we are removing this particular row to make our analysis easier.**Dropping the row that has incorrect values for our features**."
      ],
      "metadata": {
        "id": "0dytv4SiLXs2"
      }
    },
    {
      "cell_type": "code",
      "source": [
        "index_to_drop = 10472\n",
        "df_app = df_app.drop(index = index_to_drop)"
      ],
      "metadata": {
        "id": "u7o3hMCoLjlt"
      },
      "execution_count": null,
      "outputs": []
    },
    {
      "cell_type": "code",
      "source": [
        "#To check whether the column is dropped or not\n",
        "df_app[df_app['Rating']==19]"
      ],
      "metadata": {
        "id": "z7bzvejUMlZ_"
      },
      "execution_count": null,
      "outputs": []
    },
    {
      "cell_type": "markdown",
      "source": [
        "**Installs Column**"
      ],
      "metadata": {
        "id": "UUZT7C1NYLf9"
      }
    },
    {
      "cell_type": "markdown",
      "source": [
        "**Now we have dropped the column with rating as 19.Next we have to remove '+' and ',' from 'Installs' and also we need to make it numeric**"
      ],
      "metadata": {
        "id": "uHC9bSHCQso8"
      }
    },
    {
      "cell_type": "code",
      "source": [
        "df_app[\"Installs\"]=df_app[\"Installs\"].apply(lambda x:x.replace(\"+\",\" \")if \"+\" in str(x) else x)"
      ],
      "metadata": {
        "id": "A4YlFQMbSY5O"
      },
      "execution_count": null,
      "outputs": []
    },
    {
      "cell_type": "code",
      "source": [
        "df_app[\"Installs\"]=df_app[\"Installs\"].apply(lambda x: x.replace(' ',' '))"
      ],
      "metadata": {
        "id": "CbHnjnibV5my"
      },
      "execution_count": null,
      "outputs": []
    },
    {
      "cell_type": "code",
      "source": [
        "df_app[\"Installs\"]=df_app[\"Installs\"].apply(lambda x:x.replace(',',' ')if ',' in str(x)else x)"
      ],
      "metadata": {
        "id": "zhULfdLpW2vE"
      },
      "execution_count": null,
      "outputs": []
    },
    {
      "cell_type": "code",
      "source": [
        "# Removing extra spaces and non-numeric characters from \"Installs\" column\n",
        "df_app[\"Installs\"] = df_app[\"Installs\"].str.replace(' ', '').str.replace(',', '')"
      ],
      "metadata": {
        "id": "0c90OGADXm2U"
      },
      "execution_count": null,
      "outputs": []
    },
    {
      "cell_type": "code",
      "source": [
        "# converting \"Installs\" column to numeric\n",
        "df_app[\"Installs\"]=df_app[\"Installs\"].apply(lambda x: int(x))"
      ],
      "metadata": {
        "id": "zMpsdh_1WlB0"
      },
      "execution_count": null,
      "outputs": []
    },
    {
      "cell_type": "markdown",
      "source": [
        "**Size Column**"
      ],
      "metadata": {
        "id": "WnSr5fX4YU9V"
      }
    },
    {
      "cell_type": "markdown",
      "source": [
        "**We need to remove 'M' and 'k' from the column and to convert them into bytes. Also we need to remove the term \"Varies with device\"**"
      ],
      "metadata": {
        "id": "5tLZ7idDX6yI"
      }
    },
    {
      "cell_type": "code",
      "source": [
        "def convert_size(size):\n",
        "  if isinstance(size, str):\n",
        "    if \"M\" in size:\n",
        "      return float(size.replace(\"M\",\" \"))*1024*1024\n",
        "    elif \"k\" in size:\n",
        "      return(float(size.replace('k',\" \")))*1024\n",
        "    elif \"Varies with device\" in size:\n",
        "      return np.nan\n",
        "  return size"
      ],
      "metadata": {
        "id": "pGWTZrX0YnR0"
      },
      "execution_count": null,
      "outputs": []
    },
    {
      "cell_type": "code",
      "source": [
        "df_app[\"Size\"]=df_app[\"Size\"].apply(convert_size)"
      ],
      "metadata": {
        "id": "iSO2k-TEZxdV"
      },
      "execution_count": null,
      "outputs": []
    },
    {
      "cell_type": "markdown",
      "source": [
        "**Now we have removed the anamolies from the three columns viz., Rating, Installs and Size and converterd them into numeric.Lets check them**"
      ],
      "metadata": {
        "id": "cXA2ubrQaSJ4"
      }
    },
    {
      "cell_type": "code",
      "source": [
        "df_app.describe()"
      ],
      "metadata": {
        "id": "KWu5mldcah_X"
      },
      "execution_count": null,
      "outputs": []
    },
    {
      "cell_type": "markdown",
      "source": [
        "**Price Column**"
      ],
      "metadata": {
        "id": "B3j8OoBEayyk"
      }
    },
    {
      "cell_type": "markdown",
      "source": [
        "**Now we need to remove the \"$\" symbol from price column and convert them to float data type**"
      ],
      "metadata": {
        "id": "8ijHhoWFbmv6"
      }
    },
    {
      "cell_type": "code",
      "source": [
        "df_app[\"Price\"]=df_app[\"Price\"].apply(lambda x: x.replace(\"$\",\" \")if \"$\" in str(x) else x)"
      ],
      "metadata": {
        "id": "dbjpU5ONbwHC"
      },
      "execution_count": null,
      "outputs": []
    },
    {
      "cell_type": "code",
      "source": [
        "df_app[\"Price\"]=df_app[\"Price\"].apply(lambda x: float(x))"
      ],
      "metadata": {
        "id": "UfvLP2DhcF3A"
      },
      "execution_count": null,
      "outputs": []
    },
    {
      "cell_type": "markdown",
      "source": [
        "**Reviews Column**"
      ],
      "metadata": {
        "id": "jqWlgNbocRj6"
      }
    },
    {
      "cell_type": "code",
      "source": [
        "# Converting the Reviews column to int data type\n",
        "df_app[\"Reviews\"] = df_app[\"Reviews\"].apply(lambda x: int(x))"
      ],
      "metadata": {
        "id": "4wXDVIddcfcx"
      },
      "execution_count": null,
      "outputs": []
    },
    {
      "cell_type": "markdown",
      "source": [
        "**We have to ensure whether all the corresponding columns are converted into the required data types**"
      ],
      "metadata": {
        "id": "h6igVGWics9d"
      }
    },
    {
      "cell_type": "code",
      "source": [
        "df_app.dtypes"
      ],
      "metadata": {
        "id": "C7MJ2pYjc4aK"
      },
      "execution_count": null,
      "outputs": []
    },
    {
      "cell_type": "code",
      "source": [
        "df_app.describe()"
      ],
      "metadata": {
        "id": "MPibjwULc_qi"
      },
      "execution_count": null,
      "outputs": []
    },
    {
      "cell_type": "markdown",
      "source": [
        "**Now it is found that the columns Rating, Reviews, Size, Installs and Price are converted to numeric columns of required datatypes.**"
      ],
      "metadata": {
        "id": "k5DimEvZdEq6"
      }
    },
    {
      "cell_type": "markdown",
      "source": [
        "**Dealing with the Missing Values**"
      ],
      "metadata": {
        "id": "jKd-51C3oQ56"
      }
    },
    {
      "cell_type": "code",
      "source": [
        "df_app.isnull().sum()"
      ],
      "metadata": {
        "id": "ugfR21X4oUpR"
      },
      "execution_count": null,
      "outputs": []
    },
    {
      "cell_type": "markdown",
      "source": [
        "**It is understood that there are 1463 null values in the Rating column, 1227 null values in the Size column, 1 null value in Type column, 8 null values in Current Ver column and finally 2 null values in Android Ver column**"
      ],
      "metadata": {
        "id": "c7XLZoA0pW37"
      }
    },
    {
      "cell_type": "code",
      "source": [
        "# Let's remove the missing values in the Current Ver, Android Ver and Type columns as they are very smaller numbers\n",
        "df_app.dropna(subset=['Current Ver','Android Ver','Type'], inplace = True)"
      ],
      "metadata": {
        "id": "iqzbibH5qYXc"
      },
      "execution_count": null,
      "outputs": []
    },
    {
      "cell_type": "code",
      "source": [
        "# Let's check whether the null values are dropped in the corresponding columns\n",
        "df_app.isnull().sum()"
      ],
      "metadata": {
        "id": "rU9KFe3FrYdq"
      },
      "execution_count": null,
      "outputs": []
    },
    {
      "cell_type": "markdown",
      "source": [
        "**Now we have only two columns namely Rating and Size with null values.We can replace them with their mean and median values respectively.**"
      ],
      "metadata": {
        "id": "WX3PdeeWrltZ"
      }
    },
    {
      "cell_type": "code",
      "source": [
        "# Replacing null values in 'Rating'  column with the mean of the column\n",
        "df_app['Rating'].fillna(df_app['Rating'].mean(), inplace=True)"
      ],
      "metadata": {
        "id": "d_mOmx0wsVbS"
      },
      "execution_count": null,
      "outputs": []
    },
    {
      "cell_type": "code",
      "source": [
        "# Replacing null values in 'Size' column with the median of the column\n",
        "df_app['Size'].fillna(df_app['Size'].median(), inplace=True)"
      ],
      "metadata": {
        "id": "lFil7ESPvVid"
      },
      "execution_count": null,
      "outputs": []
    },
    {
      "cell_type": "code",
      "source": [
        "#To check whether there are no null values in the dataset\n",
        "df_app.isnull().sum()"
      ],
      "metadata": {
        "id": "dsdsUHTkvc9b"
      },
      "execution_count": null,
      "outputs": []
    },
    {
      "cell_type": "code",
      "source": [
        "df_app.to_csv('/content/drive/My Drive/playstoredata_cleaned.csv', index=False)"
      ],
      "metadata": {
        "id": "mWWtkvrewyOi"
      },
      "execution_count": null,
      "outputs": []
    },
    {
      "cell_type": "markdown",
      "source": [
        "### What all manipulations have you done and insights you found?"
      ],
      "metadata": {
        "id": "MSa1f5Uengrz"
      }
    },
    {
      "cell_type": "markdown",
      "source": [
        "**The columns such as Installs, Price, Rating and size contained some symbols and weired anamolies. We have identified everything, removed them and converted them into the integer and float datatypes repectively. Especially in the size column, we have converted the values in terms of bytes to make it uniform.We have replaced the Rating column with their corresponding mean value and size column with its median.**\n"
      ],
      "metadata": {
        "id": "LbyXE7I1olp8"
      }
    },
    {
      "cell_type": "markdown",
      "source": [
        "## ***4. Data Vizualization, Storytelling & Experimenting with charts : Understand the relationships between variables***"
      ],
      "metadata": {
        "id": "GF8Ens_Soomf"
      }
    },
    {
      "cell_type": "markdown",
      "source": [
        "#### Chart - 1 - Pie Chart(1.\tHow many number of apps are free and paid?)"
      ],
      "metadata": {
        "id": "0wOQAZs5pc--"
      }
    },
    {
      "cell_type": "code",
      "source": [
        "# Chart - 1 visualization code\n",
        "apps_count = df_app[\"Type\"].value_counts()\n",
        "apps_count"
      ],
      "metadata": {
        "id": "7v_ESjsspbW7"
      },
      "execution_count": null,
      "outputs": []
    },
    {
      "cell_type": "code",
      "source": [
        "plt.figure(figsize=(8, 8))\n",
        "plt.pie(apps_count, labels=apps_count.index,autopct='%1.1f%%', startangle=90, colors=['skyblue', 'lightcoral'])\n",
        "plt.title('Distribution of Free and Paid Apps')\n",
        "plt.show()"
      ],
      "metadata": {
        "id": "r7XMUorS5Xei"
      },
      "execution_count": null,
      "outputs": []
    },
    {
      "cell_type": "markdown",
      "source": [
        "##### 1. Why did you pick the specific chart?"
      ],
      "metadata": {
        "id": "K5QZ13OEpz2H"
      }
    },
    {
      "cell_type": "markdown",
      "source": [
        "The ultimate aim is to find out the distribution of paid and free apps in the dtataset. I have chosen \"pie chart\" since it is effective and it gives the percentage distribution of both the free apps and paid apps.It gives us the comparative visualiazation highlighting their relative sizes.Moreover it is quite straight forward,enhances the readability and well suitable for the"
      ],
      "metadata": {
        "id": "XESiWehPqBRc"
      }
    },
    {
      "cell_type": "markdown",
      "source": [
        "##### 2. What is/are the insight(s) found from the chart?"
      ],
      "metadata": {
        "id": "lQ7QKXXCp7Bj"
      }
    },
    {
      "cell_type": "markdown",
      "source": [
        "It is found that the free apps are larger in counts as compared with paid ones."
      ],
      "metadata": {
        "id": "C_j1G7yiqdRP"
      }
    },
    {
      "cell_type": "markdown",
      "source": [
        "##### 3. Will the gained insights help creating a positive business impact?\n",
        "Are there any insights that lead to negative growth? Justify with specific reason."
      ],
      "metadata": {
        "id": "448CDAPjqfQr"
      }
    },
    {
      "cell_type": "markdown",
      "source": [
        "Answer Here"
      ],
      "metadata": {
        "id": "3cspy4FjqxJW"
      }
    },
    {
      "cell_type": "markdown",
      "source": [
        "Chart - 2(2.1.\tWhat are the most popular app categories?)"
      ],
      "metadata": {
        "id": "KSlN3yHqYklG"
      }
    },
    {
      "cell_type": "code",
      "source": [
        "# Chart - 2 visualization code\n",
        "category_counts = df_app[\"Category\"].value_counts()\n",
        "most_popular_categories = category_counts.head(5)\n",
        "print(\"The most popular app categories in Play Store app data are:\")\n",
        "print(most_popular_categories)"
      ],
      "metadata": {
        "id": "R4YgtaqtYklH"
      },
      "execution_count": null,
      "outputs": []
    },
    {
      "cell_type": "code",
      "source": [
        "# Plotting\n",
        "plt.figure(figsize=(10, 6))\n",
        "most_popular_categories.plot(kind='barh', color='skyblue')\n",
        "plt.xlabel('Number of Apps')\n",
        "plt.ylabel('App Category')\n",
        "plt.title('Most Popular App Categories in Play Store')\n",
        "plt.gca().invert_yaxis()  # Invert y-axis to have the highest count at the top\n",
        "plt.show()"
      ],
      "metadata": {
        "id": "q80WW-9DEzGQ"
      },
      "execution_count": null,
      "outputs": []
    },
    {
      "cell_type": "markdown",
      "source": [
        "##### 1. Why did you pick the specific chart?"
      ],
      "metadata": {
        "id": "t6dVpIINYklI"
      }
    },
    {
      "cell_type": "markdown",
      "source": [
        "I have chosen this bar chart to visualise the most popular app category, because it effectively displays the app categories and we can make a comparison among all the categories easily. The benefits of horizontal bar charts include, clarity, readability, space efficacy and effecient comparison."
      ],
      "metadata": {
        "id": "5aaW0BYyYklI"
      }
    },
    {
      "cell_type": "markdown",
      "source": [
        "##### 2. What is/are the insight(s) found from the chart?"
      ],
      "metadata": {
        "id": "ijmpgYnKYklI"
      }
    },
    {
      "cell_type": "markdown",
      "source": [
        "We understand that the top most popular apps are from the category family, game and tools followed by business and medical."
      ],
      "metadata": {
        "id": "PSx9atu2YklI"
      }
    },
    {
      "cell_type": "markdown",
      "source": [
        "##### 3. Will the gained insights help creating a positive business impact?\n",
        "Are there any insights that lead to negative growth? Justify with specific reason."
      ],
      "metadata": {
        "id": "-JiQyfWJYklI"
      }
    },
    {
      "cell_type": "markdown",
      "source": [
        "Insights into popular app categories provide businesses with strategic advantages, guiding decision-making and resource allocation. By identifying trends and market opportunities, businesses can tailor their offerings to meet consumer demand effectively. This understanding enables them to differentiate from competitors, maximize revenue potential, and optimize monetization strategies. Informed decisions based on popular categories lead to the development of high-quality apps that resonate with users, fostering customer engagement and loyalty. Overall, leveraging insights about app category popularity facilitates positive business impact by driving growth, market relevance, and competitive advantage in the dynamic app market landscape."
      ],
      "metadata": {
        "id": "BcBbebzrYklV"
      }
    },
    {
      "cell_type": "markdown",
      "source": [
        "#### Chart - 3(3.\tIs there a correlation between ratings and the number of installs?)"
      ],
      "metadata": {
        "id": "EM7whBJCYoAo"
      }
    },
    {
      "cell_type": "code",
      "source": [
        " #Calculate Pearson correlation coefficient\n",
        "correlation_coefficient = np.corrcoef(df_app['Rating'], df_app['Installs'])[0, 1]\n",
        "\n",
        "# Interpret the correlation coefficient\n",
        "if correlation_coefficient > 0:\n",
        "    print(\"There is a positive correlation between ratings and the number of installs.\")\n",
        "elif correlation_coefficient < 0:\n",
        "    print(\"There is a negative correlation between ratings and the number of installs.\")\n",
        "else:\n",
        "    print(\"There is no correlation between ratings and the number of installs.\")"
      ],
      "metadata": {
        "id": "SfcYVguaHxof"
      },
      "execution_count": null,
      "outputs": []
    },
    {
      "cell_type": "code",
      "source": [
        "# Chart - 3 visualization code\n",
        "# Plotting\n",
        "plt.figure(figsize=(8, 6))\n",
        "plt.scatter(df_app['Rating'], df_app['Installs'], color='skyblue', alpha=0.5)\n",
        "plt.title('Correlation between Ratings and Installs')\n",
        "plt.xlabel('Ratings')\n",
        "plt.ylabel('Installs')\n",
        "plt.grid(True)\n",
        "plt.show()"
      ],
      "metadata": {
        "id": "t6GMdE67YoAp"
      },
      "execution_count": null,
      "outputs": []
    },
    {
      "cell_type": "markdown",
      "source": [
        "##### 1. Why did you pick the specific chart?"
      ],
      "metadata": {
        "id": "fge-S5ZAYoAp"
      }
    },
    {
      "cell_type": "markdown",
      "source": [
        "A scatter plot is chosen to visualize the correlation between ratings and installs due to its effectiveness in displaying the relationship between two continuous variables. It allows for the observation of patterns, trends, and outliers, facilitating the assessment of correlation strength and direction. Scatter plots also accommodate large datasets without clutter, enabling easy visualization of data density across the variable ranges. Their flexibility in customization further enhances clarity and understanding. Overall, scatter plots provide a comprehensive and intuitive method for exploring the relationship between ratings and installs, making them the ideal choice for this correlation analysis."
      ],
      "metadata": {
        "id": "5dBItgRVYoAp"
      }
    },
    {
      "cell_type": "markdown",
      "source": [
        "##### 2. What is/are the insight(s) found from the chart?"
      ],
      "metadata": {
        "id": "85gYPyotYoAp"
      }
    },
    {
      "cell_type": "markdown",
      "source": [
        "There is a positive correlation between the rating and installation of the apps. With a positive correlation between ratings and installs, it suggests that higher-rated apps tend to attract more installations. This insight indicates that user satisfaction, as reflected in ratings, plays a significant role in driving app popularity and adoption. Businesses can focus on improving app quality and user experience to potentially increase installation numbers and overall success in the market."
      ],
      "metadata": {
        "id": "4jstXR6OYoAp"
      }
    },
    {
      "cell_type": "markdown",
      "source": [
        "##### 3. Will the gained insights help creating a positive business impact?\n",
        "Are there any insights that lead to negative growth? Justify with specific reason."
      ],
      "metadata": {
        "id": "RoGjAbkUYoAp"
      }
    },
    {
      "cell_type": "markdown",
      "source": [
        "Yes it will create a positive business impact.Insights from the positive correlation between ratings and installs enable businesses to prioritize user satisfaction and improve app quality, leading to increased adoption and retention. Leveraging this understanding allows for targeted marketing efforts, optimized monetization strategies, and a competitive edge in the app market, ultimately driving positive business impact and success."
      ],
      "metadata": {
        "id": "zfJ8IqMcYoAp"
      }
    },
    {
      "cell_type": "markdown",
      "source": [
        "#### Chart - 4(4.\tWhich is the highest rated app in each category?)"
      ],
      "metadata": {
        "id": "4Of9eVA-YrdM"
      }
    },
    {
      "cell_type": "code",
      "source": [
        "highest_rated_apps = df_app.loc[df_app.groupby('Category')['Rating'].idxmax()]\n",
        "highest_rated_apps"
      ],
      "metadata": {
        "id": "IOLe9-7Q3Ky_"
      },
      "execution_count": null,
      "outputs": []
    },
    {
      "cell_type": "code",
      "source": [
        "plt.figure(figsize=(10, 6))\n",
        "sns.violinplot(x='Category', y='Rating', data=df_app)\n",
        "plt.title('Distribution of Ratings Within Each Category')\n",
        "plt.xlabel('Category')\n",
        "plt.ylabel('Rating')\n",
        "plt.xticks(rotation=90)  # Rotate category labels for better readability\n",
        "plt.show()"
      ],
      "metadata": {
        "id": "RKmbXWbP5HKd"
      },
      "execution_count": null,
      "outputs": []
    },
    {
      "cell_type": "markdown",
      "source": [
        "##### 1. Why did you pick the specific chart?"
      ],
      "metadata": {
        "id": "iky9q4vBYrdO"
      }
    },
    {
      "cell_type": "markdown",
      "source": [
        "A violin plot can be a suitable choice for visualizing the distribution of ratings within each category, which will be more useful for understanding the spread of ratings and identifying any potential multimodal distributions or outliers.\n"
      ],
      "metadata": {
        "id": "aJRCwT6DYrdO"
      }
    },
    {
      "cell_type": "markdown",
      "source": [
        "##### 2. What is/are the insight(s) found from the chart?"
      ],
      "metadata": {
        "id": "F6T5p64dYrdO"
      }
    },
    {
      "cell_type": "markdown",
      "source": [
        "The highest-rated apps span across a wide range of categories, including House & Home, Libraries & Demo, Lifestyle, Maps & Navigation, Medical, News & Magazines, Parenting, Personalization, Photography, Productivity, Shopping, Social, Sports, Tools, Travel & Local, Video Players & Editors, and Weather. This diversity suggests that high ratings are not limited to a specific genre or niche but can be found across various app categories.The fact that these apps received high ratings indicates that they likely offer quality content, useful features, or innovative solutions that resonate well with users."
      ],
      "metadata": {
        "id": "Xx8WAJvtYrdO"
      }
    },
    {
      "cell_type": "markdown",
      "source": [
        "##### 3. Will the gained insights help creating a positive business impact?\n",
        "Are there any insights that lead to negative growth? Justify with specific reason."
      ],
      "metadata": {
        "id": "y-Ehk30pYrdP"
      }
    },
    {
      "cell_type": "markdown",
      "source": [
        "Despite belonging to different categories, these apps have garnered significant user engagement, as indicated by the number of reviews and installs.The high ratings and positive user feedback for these apps suggest that they have successfully met users' expectations and provided a satisfactory experience. This positive sentiment can contribute to the app's reputation, user retention, and potential for future growth.Overall, leveraging the insights gained from identifying the highest-rated app categories can help businesses make informed decisions, optimize their app development and marketing strategies, and ultimately drive positive business outcomes and success in the competitive app market."
      ],
      "metadata": {
        "id": "jLNxxz7MYrdP"
      }
    },
    {
      "cell_type": "markdown",
      "source": [
        "#### Chart - 5(5.\tWhich is the lowest rated app in each category?)"
      ],
      "metadata": {
        "id": "bamQiAODYuh1"
      }
    },
    {
      "cell_type": "code",
      "source": [
        "# Chart - 5 visualization code\n",
        "lowest_rated_apps = df_app.loc[df_app.groupby('Category')['Rating'].idxmin()]\n",
        "\n",
        "# Create a horizontal bar plot\n",
        "plt.figure(figsize=(10, 6))\n",
        "plt.barh(lowest_rated_apps['Category'], lowest_rated_apps['Rating'], color='skyblue')\n",
        "plt.xlabel('Rating')\n",
        "plt.ylabel('Category')\n",
        "plt.title('Lowest Rated App in Each Category')\n",
        "plt.show()"
      ],
      "metadata": {
        "id": "TIJwrbroYuh3"
      },
      "execution_count": null,
      "outputs": []
    },
    {
      "cell_type": "code",
      "source": [
        "lowest_rated_apps"
      ],
      "metadata": {
        "id": "ii24aXolBdbR"
      },
      "execution_count": null,
      "outputs": []
    },
    {
      "cell_type": "markdown",
      "source": [
        "##### 1. Why did you pick the specific chart?"
      ],
      "metadata": {
        "id": "QHF8YVU7Yuh3"
      }
    },
    {
      "cell_type": "markdown",
      "source": [
        "A horizontal bar plot allows for easy visual comparison of the lowest-rated apps across different categories. The horizontal orientation of the bars makes it simple to compare the ratings of the lowest-rated apps side by side.The length of each bar in the plot directly represents the rating of the lowest-rated app in the respective category. This clear representation enables viewers to quickly discern the relative ratings of the lowest-rated apps within each category."
      ],
      "metadata": {
        "id": "dcxuIMRPYuh3"
      }
    },
    {
      "cell_type": "markdown",
      "source": [
        "##### 2. What is/are the insight(s) found from the chart?"
      ],
      "metadata": {
        "id": "GwzvFGzlYuh3"
      }
    },
    {
      "cell_type": "markdown",
      "source": [
        "The lowest-rated apps span across a wide range of categories, including Art & Design, Auto & Vehicles, Beauty, Books & Reference, Business, Comics, Communication, Dating, Education, Entertainment, Events, Family, Finance, Food & Drink, Games, Health & Fitness, House & Home, Libraries & Demo, Lifestyle, Maps & Navigation, Medical, News & Magazines, Parenting, Personalization, Photography, Productivity, Shopping, Social, Sports, Tools, Travel & Local, Video Players & Editors, and Weather. This diversity indicates that low ratings are not limited to specific genres but can occur across various app categories.The low ratings reflect user dissatisfaction or disappointment with the overall app experience. It indicates that users did not find the apps sufficiently valuable, enjoyable, or functional to warrant higher ratings, leading to negative feedback and lower overall ratings."
      ],
      "metadata": {
        "id": "uyqkiB8YYuh3"
      }
    },
    {
      "cell_type": "markdown",
      "source": [
        "##### 3. Will the gained insights help creating a positive business impact?\n",
        "Are there any insights that lead to negative growth? Justify with specific reason."
      ],
      "metadata": {
        "id": "qYpmQ266Yuh3"
      }
    },
    {
      "cell_type": "markdown",
      "source": [
        "By addressing shortcomings identified in low-rated apps, businesses can differentiate themselves from competitors and gain a competitive advantage in the market. Offering a superior user experience, unique features, or better customer support can help businesses stand out and attract users away from competitors."
      ],
      "metadata": {
        "id": "_WtzZ_hCYuh4"
      }
    },
    {
      "cell_type": "code",
      "source": [
        "summary_stats = df_app.groupby('Category')['Size'].describe()\n",
        "summary_stats"
      ],
      "metadata": {
        "id": "jal8u-thHJ3M"
      },
      "execution_count": null,
      "outputs": []
    },
    {
      "cell_type": "markdown",
      "source": [
        "#### Chart - 6(6.\tWhat is the distribution of app sizes across different categories?)\n"
      ],
      "metadata": {
        "id": "OH-pJp9IphqM"
      }
    },
    {
      "cell_type": "code",
      "source": [
        "# Chart - 6 visualization code\n",
        "plt.figure(figsize=(10, 6))\n",
        "df_app.boxplot(column='Size', by='Category', figsize=(12, 8), rot=90)\n",
        "plt.title('Distribution of App Sizes Across Different Categories')\n",
        "plt.xlabel('Category')\n",
        "plt.ylabel('App Size (in Bytes)')\n",
        "plt.xticks(rotation=90)\n",
        "plt.yscale('log')\n",
        "plt.show()"
      ],
      "metadata": {
        "id": "kuRf4wtuphqN"
      },
      "execution_count": null,
      "outputs": []
    },
    {
      "cell_type": "markdown",
      "source": [
        "##### 1. Why did you pick the specific chart?"
      ],
      "metadata": {
        "id": "bbFf2-_FphqN"
      }
    },
    {
      "cell_type": "markdown",
      "source": [
        "Box plots offer a concise visual representation of data distribution, facilitating comparisons between groups or categories within a dataset. They condense large datasets, highlighting central tendency, spread, and outliers effectively. Particularly useful for handling large datasets, box plots provide insights into symmetry, skewness, and outlier detection. They aid in understanding key characteristics of data distributions, enabling easy identification of differences or similarities between groups. Overall, box plots serve as a valuable tool in exploratory data analysis, offering intuitive visualization of data distribution and aiding in the interpretation of complex datasets."
      ],
      "metadata": {
        "id": "loh7H2nzphqN"
      }
    },
    {
      "cell_type": "markdown",
      "source": [
        "##### 2. What is/are the insight(s) found from the chart?"
      ],
      "metadata": {
        "id": "_ouA3fa0phqN"
      }
    },
    {
      "cell_type": "markdown",
      "source": [
        "The average size of most of the apps falls above the range of 10^7 bytes. It is also observed that majority of the apps are optimised between the sizes of approximately 2MB and 40MB. It is well optimised in such a way that the apps are neither too large in size nor smaller in size."
      ],
      "metadata": {
        "id": "VECbqPI7phqN"
      }
    },
    {
      "cell_type": "markdown",
      "source": [
        "##### 3. Will the gained insights help creating a positive business impact?\n",
        "Are there any insights that lead to negative growth? Justify with specific reason."
      ],
      "metadata": {
        "id": "Seke61FWphqN"
      }
    },
    {
      "cell_type": "markdown",
      "source": [
        "Utilizing insights that most apps fall between 2MB and 40MB, businesses can optimize app sizes for improved user experiences, cost efficiency, and performance. By ensuring apps are neither too large nor too small, companies can enhance download speeds, reduce data usage, and cater to users with limited storage or slower internet connections. This optimization fosters higher user satisfaction, retention rates, and potentially lower operational costs. Moreover, offering well-optimized apps provides a competitive advantage, attracting more users and establishing brand loyalty. Overall, leveraging these insights can lead to positive business impacts such as cost savings, enhanced user experiences, and a stronger market position."
      ],
      "metadata": {
        "id": "DW4_bGpfphqN"
      }
    },
    {
      "cell_type": "markdown",
      "source": [
        "#### Chart - 7(7.Which category has the higher in size apps and how are they rated?)"
      ],
      "metadata": {
        "id": "PIIx-8_IphqN"
      }
    },
    {
      "cell_type": "code",
      "source": [
        "# Chart - 7 visualization code\n",
        "# Filter apps with size greater than 40 MB\n",
        "large_apps_df = df_app[df_app['Size'] > 40 * 1024 * 1024]\n",
        "# Extract categories of large apps\n",
        "large_apps_categories = large_apps_df['Category'].value_counts()\n",
        "# Print the number of large-sized apps category-wise\n",
        "print(\"Number of large-sized apps category-wise:\")\n",
        "for category, count in category_counts.items():\n",
        "    print(f\"{category}: {count}\")\n"
      ],
      "metadata": {
        "id": "lqAIGUfyphqO"
      },
      "execution_count": null,
      "outputs": []
    },
    {
      "cell_type": "code",
      "source": [
        "# Create bar chart\n",
        "plt.figure(figsize=(10, 6))\n",
        "colors = ['skyblue', 'orange', 'green', 'red', 'purple']\n",
        "large_apps_categories.plot(kind='bar', color=colors)\n",
        "\n",
        "# Add labels and title\n",
        "plt.xlabel('Categories')\n",
        "plt.ylabel('Number of Large-Sized Apps')\n",
        "plt.title('Number of Large-Sized Apps Category-wise')\n",
        "\n",
        "# Rotate x-axis labels if needed\n",
        "plt.xticks(rotation=45, ha='right')\n",
        "\n",
        "# Display plot\n",
        "plt.tight_layout()  # Adjust layout to prevent clipping of labels\n",
        "plt.show()"
      ],
      "metadata": {
        "id": "c5il8C61K9g_"
      },
      "execution_count": null,
      "outputs": []
    },
    {
      "cell_type": "markdown",
      "source": [
        "##### 1. Why did you pick the specific chart?"
      ],
      "metadata": {
        "id": "t27r6nlMphqO"
      }
    },
    {
      "cell_type": "markdown",
      "source": [
        "A bar chart will be more straightforward and effective. These types of charts directly compare the average or total size of apps within each category, allowing for quick visual comparison and easy identification of the category with larger-sized apps."
      ],
      "metadata": {
        "id": "iv6ro40sphqO"
      }
    },
    {
      "cell_type": "markdown",
      "source": [
        "##### 2. What is/are the insight(s) found from the chart?"
      ],
      "metadata": {
        "id": "r2jJGEOYphqO"
      }
    },
    {
      "cell_type": "markdown",
      "source": [
        "The larger-sized apps primarily fall into the Family and Game categories, and they tend to have favorable ratings. Both categories boast an average rating surpassing 4.5, suggesting that app quality remains high regardless of size.Despite their larger sizes, Family and Game category apps demonstrate consistent user satisfaction, as reflected by their consistently high ratings."
      ],
      "metadata": {
        "id": "Po6ZPi4hphqO"
      }
    },
    {
      "cell_type": "markdown",
      "source": [
        "##### 3. Will the gained insights help creating a positive business impact?\n",
        "Are there any insights that lead to negative growth? Justify with specific reason."
      ],
      "metadata": {
        "id": "b0JNsNcRphqO"
      }
    },
    {
      "cell_type": "markdown",
      "source": [
        "The insights suggest that larger-sized apps in the Family and Game categories maintain high ratings, indicating user satisfaction irrespective of size. This means companies can focus on making these apps even better without worrying too much about making them smaller."
      ],
      "metadata": {
        "id": "xvSq8iUTphqO"
      }
    },
    {
      "cell_type": "markdown",
      "source": [
        "#### Chart - 8(8.\tAre there specific genres that are more likely to have paid apps?)"
      ],
      "metadata": {
        "id": "BZR9WyysphqO"
      }
    },
    {
      "cell_type": "code",
      "source": [
        "# Chart - 8 visualization code\n",
        "Paid_apps=df_app[df_app['Price']>0]\n",
        "paid_apps_per_genre = Paid_apps['Genres'].value_counts()\n",
        "# Print the result\n",
        "print(\"Genres more likely to have paid apps:\")\n",
        "print(paid_apps_per_genre)\n"
      ],
      "metadata": {
        "id": "TdPTWpAVphqO"
      },
      "execution_count": null,
      "outputs": []
    },
    {
      "cell_type": "code",
      "source": [
        "top_10_genres = paid_apps_per_genre.sort_values(ascending=False).head(10)\n",
        "\n",
        "# Create a donut chart\n",
        "plt.figure(figsize=(8, 8))\n",
        "plt.pie(top_10_genres, labels=top_10_genres.index, autopct='%1.1f%%', wedgeprops=dict(width=0.4), startangle=90)\n",
        "\n",
        "# Add a circle at the center to create a hole\n",
        "center_circle = plt.Circle((0, 0), 0.6, color='white', linewidth=0)\n",
        "plt.gca().add_artist(center_circle)\n",
        "\n",
        "# Add a title\n",
        "plt.title('Top 10 Genres More Likely to Have Paid Apps')\n",
        "\n",
        "# Equal aspect ratio ensures that pie is drawn as a circle\n",
        "plt.axis('equal')\n",
        "\n",
        "# Display plot\n",
        "plt.tight_layout()\n",
        "plt.show()"
      ],
      "metadata": {
        "id": "VIqDA-BVX3KC"
      },
      "execution_count": null,
      "outputs": []
    },
    {
      "cell_type": "markdown",
      "source": [
        "##### 1. Why did you pick the specific chart?"
      ],
      "metadata": {
        "id": "jj7wYXLtphqO"
      }
    },
    {
      "cell_type": "markdown",
      "source": [
        "A donut chart is highly significant due to its ability to facilitate easy comparison of segments with the total count, placing emphasis on proportions rather than absolute values. Its visually pleasing design enhances viewer engagement, with the central hole providing a clear reference point for the overall data. The ring-like structure simplifies the distinction between segments while allowing space for additional information. Overall, donut charts offer an attractive and informative way to present data, fostering comprehension and engagement among viewers."
      ],
      "metadata": {
        "id": "Ob8u6rCTphqO"
      }
    },
    {
      "cell_type": "markdown",
      "source": [
        "##### 2. What is/are the insight(s) found from the chart?"
      ],
      "metadata": {
        "id": "eZrbJ2SmphqO"
      }
    },
    {
      "cell_type": "markdown",
      "source": [
        "Medical Genre (19.6%): This indicates a relatively high proportion of paid apps within the Medical genre, suggesting a potential demand for specialized medical applications or tools.\n",
        "\n",
        "Personalization Genre (18.9%): Similarly, the high percentage of paid apps in the Personalization genre suggests a willingness among users to invest in customizing their devices or personalizing their digital experiences.\n",
        "\n",
        "Tools Genre (18.2%): The Tools genre also shows a significant presence of paid apps, indicating a demand for utility and productivity-focused applications among users.\n",
        "\n",
        "The remaining genres constitutes about 5%, 6% or 7% of the paid apps in total respectively."
      ],
      "metadata": {
        "id": "mZtgC_hjphqO"
      }
    },
    {
      "cell_type": "markdown",
      "source": [
        "##### 3. Will the gained insights help creating a positive business impact?\n",
        "Are there any insights that lead to negative growth? Justify with specific reason."
      ],
      "metadata": {
        "id": "rFu4xreNphqO"
      }
    },
    {
      "cell_type": "markdown",
      "source": [
        "\n",
        "Indeed, the insights gained from the donut chart percentages hold promise for positive business impact. The notable presence of paid apps within the Medical, Personalization, and Tools genres signifies lucrative opportunities. Developers and businesses can leverage this data to tailor their offerings, focusing on developing high-quality apps within these genres to cater to user demand. By capitalizing on these insights, businesses can enhance revenue streams, boost user engagement, and establish a competitive edge in the market, ultimately leading to a positive impact on their bottom line and overall business success.The insight that the remaining genres constitute only about 5%, 6%, or 7% of the total paid apps may potentially lead to negative growth for businesses operating within those genres"
      ],
      "metadata": {
        "id": "ey_0qi68phqO"
      }
    },
    {
      "cell_type": "markdown",
      "source": [
        "#### Chart - 9(Do certain categories dominate the market in terms of the number of installs?)\n"
      ],
      "metadata": {
        "id": "YJ55k-q6phqO"
      }
    },
    {
      "cell_type": "code",
      "source": [
        "# Chart - 9 visualization code\n",
        "# Group by category and sum the installs\n",
        "installs_per_category = df_app.groupby('Category')['Installs'].sum().sort_values(ascending=False)\n",
        "\n",
        "# Identify dominant categories (e.g., top 5 categories)\n",
        "top_categories = installs_per_category.head(5)\n",
        "\n",
        "# Create a bar chart to visualize the distribution of installs across categories\n",
        "plt.figure(figsize=(10, 6))\n",
        "colors = ['skyblue', 'lightgreen', 'salmon', 'gold', 'lightcoral']\n",
        "plt.bar(top_categories.index, top_categories.values, color=colors)\n",
        "plt.yscale('log')\n",
        "plt.xlabel('Category')\n",
        "plt.ylabel('Total Installs')\n",
        "plt.title('Top Categories Dominating the Market in Terms of Installs')\n",
        "plt.xticks(rotation=45, ha='right')\n",
        "plt.tight_layout()\n",
        "plt.show()\n",
        "\n",
        "# Optional: Print the total installs per category\n",
        "print(\"Total Installs per Category:\")\n",
        "print(installs_per_category)\n"
      ],
      "metadata": {
        "id": "B2aS4O1ophqO"
      },
      "execution_count": null,
      "outputs": []
    },
    {
      "cell_type": "markdown",
      "source": [
        "##### 1. Why did you pick the specific chart?"
      ],
      "metadata": {
        "id": "gCFgpxoyphqP"
      }
    },
    {
      "cell_type": "markdown",
      "source": [
        "Answer Here."
      ],
      "metadata": {
        "id": "TVxDimi2phqP"
      }
    },
    {
      "cell_type": "markdown",
      "source": [
        "##### 2. What is/are the insight(s) found from the chart?"
      ],
      "metadata": {
        "id": "OVtJsKN_phqQ"
      }
    },
    {
      "cell_type": "markdown",
      "source": [
        "1.The surge in gaming, communication, and tools categories reflects what users crave – fun, connectivity, and productivity boosters.\n",
        "2.Uncovering the dominant players in these fields aids in crafting our unique selling proposition amidst fierce competition.\n",
        "3.Keep a lookout for burgeoning categories like productivity and social – they may hold untapped potential for innovation and expansion.\n",
        "4.Understanding which categories are in vogue guides our product positioning, ensuring resonance with evolving consumer preferences.\n",
        "5.Armed with insights from top categories, we can steer our strategies intelligently, deploying resources effectively to maintain our edge in the dynamic market terrain.\n"
      ],
      "metadata": {
        "id": "ngGi97qjphqQ"
      }
    },
    {
      "cell_type": "markdown",
      "source": [
        "##### 3. Will the gained insights help creating a positive business impact?\n",
        "Are there any insights that lead to negative growth? Justify with specific reason."
      ],
      "metadata": {
        "id": "lssrdh5qphqQ"
      }
    },
    {
      "cell_type": "markdown",
      "source": [
        "The gained insights can indeed lead to a positive business impact by informing strategic decisions, enhancing market positioning, and fostering innovation. For instance, understanding consumer preferences and dominant market trends enables businesses to align their products and services with evolving demands, potentially increasing customer satisfaction and loyalty. Additionally, insights into emerging categories offer opportunities for expansion and diversification, contributing to revenue growth and market competitiveness.\n",
        "\n",
        "Conversely, insights indicating low market share or declining demand in certain categories may lead to negative growth prospects. For instance, if analysis reveals dwindling consumer interest or heightened competition within specific sectors, businesses operating in those categories may face challenges in maintaining market relevance and sustaining profitability. This could necessitate strategic pivots, investments in product differentiation, or exploration of alternative revenue streams to mitigate the risks associated with negative growth trajectories.\n",
        "\n",
        "\n",
        "\n",
        "\n",
        "\n"
      ],
      "metadata": {
        "id": "tBpY5ekJphqQ"
      }
    },
    {
      "cell_type": "markdown",
      "source": [
        "#### Chart - 10"
      ],
      "metadata": {
        "id": "U2RJ9gkRphqQ"
      }
    },
    {
      "cell_type": "code",
      "source": [
        "# Chart - 10 visualization code"
      ],
      "metadata": {
        "id": "GM7a4YP4phqQ"
      },
      "execution_count": null,
      "outputs": []
    },
    {
      "cell_type": "markdown",
      "source": [
        "##### 1. Why did you pick the specific chart?"
      ],
      "metadata": {
        "id": "1M8mcRywphqQ"
      }
    },
    {
      "cell_type": "markdown",
      "source": [
        "Answer Here."
      ],
      "metadata": {
        "id": "8agQvks0phqQ"
      }
    },
    {
      "cell_type": "markdown",
      "source": [
        "##### 2. What is/are the insight(s) found from the chart?"
      ],
      "metadata": {
        "id": "tgIPom80phqQ"
      }
    },
    {
      "cell_type": "markdown",
      "source": [
        "Answer Here"
      ],
      "metadata": {
        "id": "Qp13pnNzphqQ"
      }
    },
    {
      "cell_type": "markdown",
      "source": [
        "##### 3. Will the gained insights help creating a positive business impact?\n",
        "Are there any insights that lead to negative growth? Justify with specific reason."
      ],
      "metadata": {
        "id": "JMzcOPDDphqR"
      }
    },
    {
      "cell_type": "markdown",
      "source": [
        "Answer Here"
      ],
      "metadata": {
        "id": "R4Ka1PC2phqR"
      }
    },
    {
      "cell_type": "markdown",
      "source": [
        "#### Chart - 11"
      ],
      "metadata": {
        "id": "x-EpHcCOp1ci"
      }
    },
    {
      "cell_type": "code",
      "source": [
        "# Chart - 11 visualization code"
      ],
      "metadata": {
        "id": "mAQTIvtqp1cj"
      },
      "execution_count": null,
      "outputs": []
    },
    {
      "cell_type": "markdown",
      "source": [
        "##### 1. Why did you pick the specific chart?"
      ],
      "metadata": {
        "id": "X_VqEhTip1ck"
      }
    },
    {
      "cell_type": "markdown",
      "source": [
        "Answer Here."
      ],
      "metadata": {
        "id": "-vsMzt_np1ck"
      }
    },
    {
      "cell_type": "markdown",
      "source": [
        "##### 2. What is/are the insight(s) found from the chart?"
      ],
      "metadata": {
        "id": "8zGJKyg5p1ck"
      }
    },
    {
      "cell_type": "markdown",
      "source": [
        "Answer Here"
      ],
      "metadata": {
        "id": "ZYdMsrqVp1ck"
      }
    },
    {
      "cell_type": "markdown",
      "source": [
        "##### 3. Will the gained insights help creating a positive business impact?\n",
        "Are there any insights that lead to negative growth? Justify with specific reason."
      ],
      "metadata": {
        "id": "PVzmfK_Ep1ck"
      }
    },
    {
      "cell_type": "markdown",
      "source": [
        "Answer Here"
      ],
      "metadata": {
        "id": "druuKYZpp1ck"
      }
    },
    {
      "cell_type": "markdown",
      "source": [
        "#### Chart - 12"
      ],
      "metadata": {
        "id": "n3dbpmDWp1ck"
      }
    },
    {
      "cell_type": "code",
      "source": [
        "# Chart - 12 visualization code"
      ],
      "metadata": {
        "id": "bwevp1tKp1ck"
      },
      "execution_count": null,
      "outputs": []
    },
    {
      "cell_type": "markdown",
      "source": [
        "##### 1. Why did you pick the specific chart?"
      ],
      "metadata": {
        "id": "ylSl6qgtp1ck"
      }
    },
    {
      "cell_type": "markdown",
      "source": [
        "Answer Here."
      ],
      "metadata": {
        "id": "m2xqNkiQp1ck"
      }
    },
    {
      "cell_type": "markdown",
      "source": [
        "##### 2. What is/are the insight(s) found from the chart?"
      ],
      "metadata": {
        "id": "ZWILFDl5p1ck"
      }
    },
    {
      "cell_type": "markdown",
      "source": [
        "Answer Here"
      ],
      "metadata": {
        "id": "x-lUsV2mp1ck"
      }
    },
    {
      "cell_type": "markdown",
      "source": [
        "##### 3. Will the gained insights help creating a positive business impact?\n",
        "Are there any insights that lead to negative growth? Justify with specific reason."
      ],
      "metadata": {
        "id": "M7G43BXep1ck"
      }
    },
    {
      "cell_type": "markdown",
      "source": [
        "Answer Here"
      ],
      "metadata": {
        "id": "5wwDJXsLp1cl"
      }
    },
    {
      "cell_type": "markdown",
      "source": [
        "#### Chart - 13"
      ],
      "metadata": {
        "id": "Ag9LCva-p1cl"
      }
    },
    {
      "cell_type": "code",
      "source": [
        "# Chart - 13 visualization code"
      ],
      "metadata": {
        "id": "EUfxeq9-p1cl"
      },
      "execution_count": null,
      "outputs": []
    },
    {
      "cell_type": "markdown",
      "source": [
        "##### 1. Why did you pick the specific chart?"
      ],
      "metadata": {
        "id": "E6MkPsBcp1cl"
      }
    },
    {
      "cell_type": "markdown",
      "source": [
        "Answer Here."
      ],
      "metadata": {
        "id": "V22bRsFWp1cl"
      }
    },
    {
      "cell_type": "markdown",
      "source": [
        "##### 2. What is/are the insight(s) found from the chart?"
      ],
      "metadata": {
        "id": "2cELzS2fp1cl"
      }
    },
    {
      "cell_type": "markdown",
      "source": [
        "Answer Here"
      ],
      "metadata": {
        "id": "ozQPc2_Ip1cl"
      }
    },
    {
      "cell_type": "markdown",
      "source": [
        "##### 3. Will the gained insights help creating a positive business impact?\n",
        "Are there any insights that lead to negative growth? Justify with specific reason."
      ],
      "metadata": {
        "id": "3MPXvC8up1cl"
      }
    },
    {
      "cell_type": "markdown",
      "source": [
        "Answer Here"
      ],
      "metadata": {
        "id": "GL8l1tdLp1cl"
      }
    },
    {
      "cell_type": "markdown",
      "source": [
        "#### Chart - 14 - Correlation Heatmap"
      ],
      "metadata": {
        "id": "NC_X3p0fY2L0"
      }
    },
    {
      "cell_type": "code",
      "source": [
        "# Correlation Heatmap visualization code"
      ],
      "metadata": {
        "id": "xyC9zolEZNRQ"
      },
      "execution_count": null,
      "outputs": []
    },
    {
      "cell_type": "markdown",
      "source": [
        "##### 1. Why did you pick the specific chart?"
      ],
      "metadata": {
        "id": "UV0SzAkaZNRQ"
      }
    },
    {
      "cell_type": "markdown",
      "source": [
        "Answer Here."
      ],
      "metadata": {
        "id": "DVPuT8LYZNRQ"
      }
    },
    {
      "cell_type": "markdown",
      "source": [
        "##### 2. What is/are the insight(s) found from the chart?"
      ],
      "metadata": {
        "id": "YPEH6qLeZNRQ"
      }
    },
    {
      "cell_type": "markdown",
      "source": [
        "Answer Here"
      ],
      "metadata": {
        "id": "bfSqtnDqZNRR"
      }
    },
    {
      "cell_type": "markdown",
      "source": [
        "#### Chart - 15 - Pair Plot"
      ],
      "metadata": {
        "id": "q29F0dvdveiT"
      }
    },
    {
      "cell_type": "code",
      "source": [
        "# Pair Plot visualization code"
      ],
      "metadata": {
        "id": "o58-TEIhveiU"
      },
      "execution_count": null,
      "outputs": []
    },
    {
      "cell_type": "markdown",
      "source": [
        "##### 1. Why did you pick the specific chart?"
      ],
      "metadata": {
        "id": "EXh0U9oCveiU"
      }
    },
    {
      "cell_type": "markdown",
      "source": [
        "Answer Here."
      ],
      "metadata": {
        "id": "eMmPjTByveiU"
      }
    },
    {
      "cell_type": "markdown",
      "source": [
        "##### 2. What is/are the insight(s) found from the chart?"
      ],
      "metadata": {
        "id": "22aHeOlLveiV"
      }
    },
    {
      "cell_type": "markdown",
      "source": [
        "Answer Here"
      ],
      "metadata": {
        "id": "uPQ8RGwHveiV"
      }
    },
    {
      "cell_type": "markdown",
      "source": [
        "## **5. Solution to Business Objective**"
      ],
      "metadata": {
        "id": "JcMwzZxoAimU"
      }
    },
    {
      "cell_type": "markdown",
      "source": [
        "#### What do you suggest the client to achieve Business Objective ?\n",
        "Explain Briefly."
      ],
      "metadata": {
        "id": "8G2x9gOozGDZ"
      }
    },
    {
      "cell_type": "markdown",
      "source": [
        "Answer Here."
      ],
      "metadata": {
        "id": "pASKb0qOza21"
      }
    },
    {
      "cell_type": "markdown",
      "source": [
        "# **Conclusion**"
      ],
      "metadata": {
        "id": "gCX9965dhzqZ"
      }
    },
    {
      "cell_type": "markdown",
      "source": [
        "Write the conclusion here."
      ],
      "metadata": {
        "id": "Fjb1IsQkh3yE"
      }
    },
    {
      "cell_type": "markdown",
      "source": [
        "### ***Hurrah! You have successfully completed your EDA Capstone Project !!!***"
      ],
      "metadata": {
        "id": "gIfDvo9L0UH2"
      }
    }
  ]
}